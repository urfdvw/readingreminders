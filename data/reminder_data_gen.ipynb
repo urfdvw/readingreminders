{
 "cells": [
  {
   "cell_type": "code",
   "execution_count": 1,
   "metadata": {},
   "outputs": [],
   "source": [
    "#%%\n",
    "import csv\n",
    "import json"
   ]
  },
  {
   "cell_type": "code",
   "execution_count": 2,
   "metadata": {},
   "outputs": [],
   "source": [
    "book_chapter = set()\n",
    "with open('trcn-esv.csv', newline='', encoding='utf-8') as f:\n",
    "    reader = csv.reader(f)\n",
    "    for row in reader:\n",
    "        book_chapter.add((int(row[0][:-6]), int(row[0][-6: -3])))"
   ]
  },
  {
   "cell_type": "code",
   "execution_count": 3,
   "metadata": {},
   "outputs": [],
   "source": [
    "book_chapter = sorted(list(book_chapter))"
   ]
  },
  {
   "cell_type": "code",
   "execution_count": 4,
   "metadata": {},
   "outputs": [
    {
     "data": {
      "text/plain": [
       "{1: {'len': 50},\n",
       " 2: {'len': 40},\n",
       " 3: {'len': 27},\n",
       " 4: {'len': 36},\n",
       " 5: {'len': 34},\n",
       " 6: {'len': 24},\n",
       " 7: {'len': 21},\n",
       " 8: {'len': 4},\n",
       " 9: {'len': 31},\n",
       " 10: {'len': 24},\n",
       " 11: {'len': 22},\n",
       " 12: {'len': 25},\n",
       " 13: {'len': 29},\n",
       " 14: {'len': 36},\n",
       " 15: {'len': 10},\n",
       " 16: {'len': 13},\n",
       " 17: {'len': 10},\n",
       " 18: {'len': 42},\n",
       " 19: {'len': 150},\n",
       " 20: {'len': 31},\n",
       " 21: {'len': 12},\n",
       " 22: {'len': 8},\n",
       " 23: {'len': 66},\n",
       " 24: {'len': 52},\n",
       " 25: {'len': 5},\n",
       " 26: {'len': 48},\n",
       " 27: {'len': 12},\n",
       " 28: {'len': 14},\n",
       " 29: {'len': 3},\n",
       " 30: {'len': 9},\n",
       " 31: {'len': 1},\n",
       " 32: {'len': 4},\n",
       " 33: {'len': 7},\n",
       " 34: {'len': 3},\n",
       " 35: {'len': 3},\n",
       " 36: {'len': 3},\n",
       " 37: {'len': 2},\n",
       " 38: {'len': 14},\n",
       " 39: {'len': 4},\n",
       " 40: {'len': 28},\n",
       " 41: {'len': 16},\n",
       " 42: {'len': 24},\n",
       " 43: {'len': 21},\n",
       " 44: {'len': 28},\n",
       " 45: {'len': 16},\n",
       " 46: {'len': 16},\n",
       " 47: {'len': 13},\n",
       " 48: {'len': 6},\n",
       " 49: {'len': 6},\n",
       " 50: {'len': 4},\n",
       " 51: {'len': 4},\n",
       " 52: {'len': 5},\n",
       " 53: {'len': 3},\n",
       " 54: {'len': 6},\n",
       " 55: {'len': 4},\n",
       " 56: {'len': 3},\n",
       " 57: {'len': 1},\n",
       " 58: {'len': 13},\n",
       " 59: {'len': 5},\n",
       " 60: {'len': 5},\n",
       " 61: {'len': 3},\n",
       " 62: {'len': 5},\n",
       " 63: {'len': 1},\n",
       " 64: {'len': 1},\n",
       " 65: {'len': 1},\n",
       " 66: {'len': 22}}"
      ]
     },
     "execution_count": 4,
     "metadata": {},
     "output_type": "execute_result"
    }
   ],
   "source": [
    "out = {}\n",
    "for b, c in book_chapter:\n",
    "    out.setdefault(b, {})\n",
    "    out[b]['len'] = c\n",
    "out"
   ]
  },
  {
   "cell_type": "code",
   "execution_count": 5,
   "metadata": {},
   "outputs": [
    {
     "data": {
      "text/plain": [
       "{1: {'len': 50, 'url': 'Gen', 'name': '创世记'},\n",
       " 2: {'len': 40, 'url': 'Exo', 'name': '出埃及记'},\n",
       " 3: {'len': 27, 'url': 'Lev', 'name': '利未记'},\n",
       " 4: {'len': 36, 'url': 'Num', 'name': '民数记'},\n",
       " 5: {'len': 34, 'url': 'Deu', 'name': '申命记'},\n",
       " 6: {'len': 24, 'url': 'Jos', 'name': '约书亚记'},\n",
       " 7: {'len': 21, 'url': 'Jug', 'name': '士师记'},\n",
       " 8: {'len': 4, 'url': 'Rut', 'name': '路得记'},\n",
       " 9: {'len': 31, 'url': '1Sa', 'name': '撒母耳记上'},\n",
       " 10: {'len': 24, 'url': '2Sa', 'name': '撒母耳记下'},\n",
       " 11: {'len': 22, 'url': '1Ki', 'name': '列王记上'},\n",
       " 12: {'len': 25, 'url': '2Ki', 'name': '列王记下'},\n",
       " 13: {'len': 29, 'url': '1Ch', 'name': '历代志上'},\n",
       " 14: {'len': 36, 'url': '2Ch', 'name': '历代志下'},\n",
       " 15: {'len': 10, 'url': 'Ezr', 'name': '以斯拉记'},\n",
       " 16: {'len': 13, 'url': 'Neh', 'name': '尼希米记'},\n",
       " 17: {'len': 10, 'url': 'Est', 'name': '以斯帖记'},\n",
       " 18: {'len': 42, 'url': 'Job', 'name': '约伯记'},\n",
       " 19: {'len': 150, 'url': 'Psm', 'name': '诗篇'},\n",
       " 20: {'len': 31, 'url': 'Pro', 'name': '箴言'},\n",
       " 21: {'len': 12, 'url': 'Ecc', 'name': '传道书'},\n",
       " 22: {'len': 8, 'url': 'Son', 'name': '雅歌'},\n",
       " 23: {'len': 66, 'url': 'Isa', 'name': '以赛亚书'},\n",
       " 24: {'len': 52, 'url': 'Jer', 'name': '耶利米书'},\n",
       " 25: {'len': 5, 'url': 'Lam', 'name': '耶利米哀歌'},\n",
       " 26: {'len': 48, 'url': 'Eze', 'name': '以西结书'},\n",
       " 27: {'len': 12, 'url': 'Dan', 'name': '但以理书'},\n",
       " 28: {'len': 14, 'url': 'Hos', 'name': '何西阿书'},\n",
       " 29: {'len': 3, 'url': 'Joe', 'name': '约珥书'},\n",
       " 30: {'len': 9, 'url': 'Amo', 'name': '阿摩司书'},\n",
       " 31: {'len': 1, 'url': 'Oba', 'name': '俄巴底亚书'},\n",
       " 32: {'len': 4, 'url': 'Jon', 'name': '约拿书'},\n",
       " 33: {'len': 7, 'url': 'Mic', 'name': '弥迦书'},\n",
       " 34: {'len': 3, 'url': 'Nah', 'name': '那鸿书'},\n",
       " 35: {'len': 3, 'url': 'Hab', 'name': '哈巴谷书'},\n",
       " 36: {'len': 3, 'url': 'Zep', 'name': '西番雅书'},\n",
       " 37: {'len': 2, 'url': 'Hag', 'name': '哈该书'},\n",
       " 38: {'len': 14, 'url': 'Zec', 'name': '撒迦利亚书'},\n",
       " 39: {'len': 4, 'url': 'Mal', 'name': '玛拉基书'},\n",
       " 40: {'len': 28, 'url': 'Mat', 'name': '马太福音'},\n",
       " 41: {'len': 16, 'url': 'Mak', 'name': '马可福音'},\n",
       " 42: {'len': 24, 'url': 'Luk', 'name': '路加福音'},\n",
       " 43: {'len': 21, 'url': 'Jhn', 'name': '约翰福音'},\n",
       " 44: {'len': 28, 'url': 'Act', 'name': '使徒行传'},\n",
       " 45: {'len': 16, 'url': 'Rom', 'name': '罗马书'},\n",
       " 46: {'len': 16, 'url': '1Co', 'name': '哥林多前书'},\n",
       " 47: {'len': 13, 'url': '2Co', 'name': '哥林多后书'},\n",
       " 48: {'len': 6, 'url': 'Gal', 'name': '加拉太书'},\n",
       " 49: {'len': 6, 'url': 'Eph', 'name': '以弗所书'},\n",
       " 50: {'len': 4, 'url': 'Phl', 'name': '腓立比书'},\n",
       " 51: {'len': 4, 'url': 'Col', 'name': '歌罗西书'},\n",
       " 52: {'len': 5, 'url': '1Ts', 'name': '帖撒罗尼迦前书'},\n",
       " 53: {'len': 3, 'url': '2Ts', 'name': '帖撒罗尼迦后书'},\n",
       " 54: {'len': 6, 'url': '1Ti', 'name': '提摩太前书'},\n",
       " 55: {'len': 4, 'url': '2Ti', 'name': '提摩太后书'},\n",
       " 56: {'len': 3, 'url': 'Tit', 'name': '提多书'},\n",
       " 57: {'len': 1, 'url': 'Phm', 'name': '腓利门书'},\n",
       " 58: {'len': 13, 'url': 'Heb', 'name': '希伯来书'},\n",
       " 59: {'len': 5, 'url': 'Jas', 'name': '雅各书'},\n",
       " 60: {'len': 5, 'url': '1Pe', 'name': '彼得前书'},\n",
       " 61: {'len': 3, 'url': '2Pe', 'name': '彼得后书'},\n",
       " 62: {'len': 5, 'url': '1Jn', 'name': '约翰一书'},\n",
       " 63: {'len': 1, 'url': '2Jn', 'name': '约翰二书'},\n",
       " 64: {'len': 1, 'url': '3Jn', 'name': '约翰三书'},\n",
       " 65: {'len': 1, 'url': 'Jud', 'name': '犹大书'},\n",
       " 66: {'len': 22, 'url': 'Rev', 'name': '启示录'}}"
      ]
     },
     "execution_count": 5,
     "metadata": {},
     "output_type": "execute_result"
    }
   ],
   "source": [
    "data = []\n",
    "with open('books.csv', newline='', encoding='utf-8') as f:\n",
    "    reader = csv.reader(f)\n",
    "    for row in reader:\n",
    "        data.append(row)\n",
    "\n",
    "\n",
    "for i in range(len(data)):\n",
    "    out[i+1]['url'] = data[i][1]\n",
    "    out[i+1]['name'] = data[i][2]\n",
    "    \n",
    "out"
   ]
  },
  {
   "cell_type": "code",
   "execution_count": 6,
   "metadata": {},
   "outputs": [],
   "source": [
    "with open('reminderdata.json', 'w', encoding='utf-8') as json_file:\n",
    "    json.dump(out, json_file, ensure_ascii=False)"
   ]
  },
  {
   "cell_type": "code",
   "execution_count": null,
   "metadata": {},
   "outputs": [],
   "source": []
  }
 ],
 "metadata": {
  "kernelspec": {
   "display_name": "Python 3",
   "language": "python",
   "name": "python3"
  },
  "language_info": {
   "codemirror_mode": {
    "name": "ipython",
    "version": 3
   },
   "file_extension": ".py",
   "mimetype": "text/x-python",
   "name": "python",
   "nbconvert_exporter": "python",
   "pygments_lexer": "ipython3",
   "version": "3.7.4"
  }
 },
 "nbformat": 4,
 "nbformat_minor": 4
}
